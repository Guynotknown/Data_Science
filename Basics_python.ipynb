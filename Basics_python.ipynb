{
 "cells": [
  {
   "cell_type": "markdown",
   "id": "72449f95",
   "metadata": {},
   "source": [
    "## *Check Prime*"
   ]
  },
  {
   "cell_type": "code",
   "execution_count": 10,
   "id": "41f2efc8",
   "metadata": {},
   "outputs": [
    {
     "name": "stdout",
     "output_type": "stream",
     "text": [
      "Enter a number: 10\n",
      "10 is not a prime number.\n"
     ]
    }
   ],
   "source": [
    "def is_prime_naive(n):\n",
    "    if n <= 1:\n",
    "        return False\n",
    "    for i in range(2, n):\n",
    "        if n % i == 0:\n",
    "            return False\n",
    "    return True\n",
    "\n",
    "num = int(input(\"Enter a number: \"))\n",
    "if is_prime_naive(num):\n",
    "    print(f\"{num} is a prime number.\")\n",
    "else:\n",
    "    print(f\"{num} is not a prime number.\")\n"
   ]
  },
  {
   "cell_type": "markdown",
   "id": "78264fcd",
   "metadata": {},
   "source": [
    "## *Product Of Random Num*\n"
   ]
  },
  {
   "cell_type": "code",
   "execution_count": 11,
   "id": "8ae2f80b",
   "metadata": {},
   "outputs": [
    {
     "name": "stdout",
     "output_type": "stream",
     "text": [
      "What is 3 x 1?\n",
      "Your answer: 4\n",
      "Incorrect. The correct answer is 3\n"
     ]
    }
   ],
   "source": [
    "import random\n",
    "\n",
    "def multiplication_quiz():\n",
    "    num1 = random.randint(1, 10)\n",
    "    num2 = random.randint(1, 10)\n",
    "    print(f\"What is {num1} x {num2}?\")\n",
    "    user_answer = int(input(\"Your answer: \"))\n",
    "\n",
    "\n",
    "    correct_answer = num1 * num2\n",
    "    if user_answer == correct_answer:\n",
    "        print(\"Correct!\")\n",
    "    else:\n",
    "        print(f\"Incorrect. The correct answer is {correct_answer}\")\n",
    "multiplication_quiz()\n"
   ]
  },
  {
   "cell_type": "markdown",
   "id": "6f40d534",
   "metadata": {},
   "source": [
    "##  *Squares Of All Even Num*"
   ]
  },
  {
   "cell_type": "code",
   "execution_count": 17,
   "id": "637ac95d",
   "metadata": {},
   "outputs": [
    {
     "name": "stdout",
     "output_type": "stream",
     "text": [
      "10000\n",
      "10404\n",
      "10816\n",
      "11236\n",
      "11664\n",
      "12100\n",
      "12544\n",
      "12996\n",
      "13456\n",
      "13924\n",
      "14400\n",
      "14884\n",
      "15376\n",
      "15876\n",
      "16384\n",
      "16900\n",
      "17424\n",
      "17956\n",
      "18496\n",
      "19044\n",
      "19600\n",
      "20164\n",
      "20736\n",
      "21316\n",
      "21904\n",
      "22500\n",
      "23104\n",
      "23716\n",
      "24336\n",
      "24964\n",
      "25600\n",
      "26244\n",
      "26896\n",
      "27556\n",
      "28224\n",
      "28900\n",
      "29584\n",
      "30276\n",
      "30976\n",
      "31684\n",
      "32400\n",
      "33124\n",
      "33856\n",
      "34596\n",
      "35344\n",
      "36100\n",
      "36864\n",
      "37636\n",
      "38416\n",
      "39204\n",
      "40000\n"
     ]
    }
   ],
   "source": [
    "for i in range(100,201):\n",
    "    if i%2 == 0:\n",
    "        i *= i\n",
    "        print(i)"
   ]
  },
  {
   "cell_type": "markdown",
   "id": "cfc297b1",
   "metadata": {},
   "source": [
    "## *Word Counter RegEx*"
   ]
  },
  {
   "cell_type": "code",
   "execution_count": 19,
   "id": "e592061a",
   "metadata": {},
   "outputs": [
    {
     "name": "stdout",
     "output_type": "stream",
     "text": [
      "'this': 2\n",
      "'is': 1\n",
      "'a': 1\n",
      "'sample': 1\n",
      "'text': 2\n",
      "'will': 1\n",
      "'be': 1\n",
      "'used': 1\n",
      "'to': 1\n",
      "'demonstrate': 1\n",
      "'the': 1\n",
      "'word': 1\n",
      "'counter': 1\n"
     ]
    }
   ],
   "source": [
    "from collections import Counter\n",
    "import re\n",
    "\n",
    "def count_words(input_text):\n",
    "\n",
    "    words = re.findall(r'\\b\\w+\\b', input_text.lower())\n",
    "\n",
    "    word_count = Counter(words)\n",
    "\n",
    "    for word, count in word_count.items():\n",
    "        print(f\"'{word}': {count}\")\n",
    "\n",
    "\n",
    "input_text = \"This is a sample text. This text will be used to demonstrate the word counter.\"\n",
    "\n",
    "count_words(input_text)\n"
   ]
  },
  {
   "cell_type": "markdown",
   "id": "4f857317",
   "metadata": {},
   "source": [
    "## *Pallindrome*"
   ]
  },
  {
   "cell_type": "code",
   "execution_count": 22,
   "id": "1f7491eb",
   "metadata": {},
   "outputs": [
    {
     "name": "stdout",
     "output_type": "stream",
     "text": [
      "enter text: racecar\n",
      "palindrome\n"
     ]
    }
   ],
   "source": [
    "t= input(\"enter text: \") \n",
    "if t == t[::-1]:\n",
    "    print(\"palindrome\")\n",
    "else:\n",
    "    print(\"nope\")\n"
   ]
  },
  {
   "cell_type": "code",
   "execution_count": null,
   "id": "c5b5da84",
   "metadata": {},
   "outputs": [],
   "source": []
  }
 ],
 "metadata": {
  "kernelspec": {
   "display_name": "Python 3 (ipykernel)",
   "language": "python",
   "name": "python3"
  },
  "language_info": {
   "codemirror_mode": {
    "name": "ipython",
    "version": 3
   },
   "file_extension": ".py",
   "mimetype": "text/x-python",
   "name": "python",
   "nbconvert_exporter": "python",
   "pygments_lexer": "ipython3",
   "version": "3.10.9"
  }
 },
 "nbformat": 4,
 "nbformat_minor": 5
}
