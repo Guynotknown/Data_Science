{
 "cells": [
  {
   "cell_type": "code",
   "execution_count": 1,
   "id": "b909e30e",
   "metadata": {},
   "outputs": [],
   "source": [
    "from scipy.stats import t\n",
    "from math import  sqrt\n",
    "import numpy as np"
   ]
  },
  {
   "cell_type": "markdown",
   "id": "93a69423",
   "metadata": {},
   "source": [
    "## *Hypothesis Testing*\n"
   ]
  },
  {
   "cell_type": "code",
   "execution_count": 3,
   "id": "56c48b52",
   "metadata": {},
   "outputs": [
    {
     "data": {
      "text/plain": [
       "'given: \\nx_bar = 3050\\nn = 25\\nmu = 1000+5X where X = 600\\nmu = 4000\\n'"
      ]
     },
     "execution_count": 3,
     "metadata": {},
     "output_type": "execute_result"
    }
   ],
   "source": [
    "'''given: \n",
    "x_bar = 3050\n",
    "n = 25\n",
    "mu = 1000+5X where X = 600\n",
    "mu = 4000\n",
    "'''"
   ]
  },
  {
   "cell_type": "code",
   "execution_count": 9,
   "id": "83b7e457",
   "metadata": {},
   "outputs": [
    {
     "name": "stdout",
     "output_type": "stream",
     "text": [
      "t_cal is: -38.0\n"
     ]
    }
   ],
   "source": [
    "# t-test\n",
    "x_bar = 3050\n",
    "n = 25\n",
    "mu = 4000\n",
    "std = 5*n\n",
    "alpha = 0.05 #given\n",
    "ent = (n-1) #degrees of freedom\n",
    "t_cal = (x_bar - mu)/(std/sqrt(n))\n",
    "print(\"t_cal is:\",t_cal)"
   ]
  },
  {
   "cell_type": "code",
   "execution_count": 13,
   "id": "5dbfd5e1",
   "metadata": {},
   "outputs": [
    {
     "name": "stdout",
     "output_type": "stream",
     "text": [
      "t_crit: -1.71\n"
     ]
    }
   ],
   "source": [
    "t_crit = t.ppf(alpha,ent)\n",
    "t_critr = round(t_crit,2)\n",
    "print(\"t_crit:\",t_critr)"
   ]
  },
  {
   "cell_type": "code",
   "execution_count": 15,
   "id": "602bbec3",
   "metadata": {},
   "outputs": [
    {
     "name": "stdout",
     "output_type": "stream",
     "text": [
      "accept null Hypothesis i.e the cost is greater than given by model\n"
     ]
    }
   ],
   "source": [
    "'''given \n",
    "H0 : the weekly cost is higher than model.\n",
    "H1 : The cost is same.\n",
    "t_cal<t_crit : accept H0\n",
    "t_cal>t_crit : reject H0'''\n",
    "if t_cal < t_critr:\n",
    "    print('accept null Hypothesis i.e the cost is greater than given by model')\n",
    "else:\n",
    "    print('reject null hyppthesis : the cost is same!!')\n"
   ]
  },
  {
   "cell_type": "markdown",
   "id": "2367d9cc",
   "metadata": {},
   "source": [
    "## *Chi-Square Test*"
   ]
  },
  {
   "cell_type": "code",
   "execution_count": 16,
   "id": "d5326a71",
   "metadata": {},
   "outputs": [],
   "source": [
    "import pandas as pd\n",
    "from scipy.stats import chi2_contingency"
   ]
  },
  {
   "cell_type": "code",
   "execution_count": 19,
   "id": "3da22968",
   "metadata": {},
   "outputs": [
    {
     "name": "stdout",
     "output_type": "stream",
     "text": [
      "                  Thermostat  Smart Light\n",
      "Very Satisfied            50           70\n",
      "Satisfied                 80          100\n",
      "Neutral                   60           90\n",
      "Unsatisfied               30           50\n",
      "Very Unsatisfied          20           50\n"
     ]
    }
   ],
   "source": [
    "#first the data can be formed into a data frame\n",
    "data=[[50,70],[80,100],[60,90],[30,50],[20,50]]\n",
    "df=pd.DataFrame(data,columns=['Thermostat','Smart Light'],index=['Very Satisfied','Satisfied','Neutral','Unsatisfied','Very Unsatisfied'])\n",
    "print(df)"
   ]
  },
  {
   "cell_type": "code",
   "execution_count": 24,
   "id": "e072ae50",
   "metadata": {},
   "outputs": [
    {
     "name": "stdout",
     "output_type": "stream",
     "text": [
      "chi square statistics= 5.638\n",
      "p_value 0.228\n",
      "degrees of freedom= 4\n",
      "Expected Frequencies [[ 48.  72.]\n",
      " [ 72. 108.]\n",
      " [ 60.  90.]\n",
      " [ 32.  48.]\n",
      " [ 28.  42.]]\n",
      "H0 is accepted \n",
      " there's no  significant association between the type of smart home device purchased Smart Thermostats  Smart Light and the customer satisfaction level.\n"
     ]
    }
   ],
   "source": [
    "chi2, p_value, dof, expected= chi2_contingency(df)\n",
    "\n",
    "print(\"chi square statistics=\",round(chi2,3))\n",
    "print(\"p_value\",round(p_value,3))\n",
    "print(\"degrees of freedom=\",dof)\n",
    "print(\"Expected Frequencies\",expected)\n",
    "\n",
    "#based on the p value we are deciding the hypothesis\n",
    "if p_value<0.05:\n",
    "    print(\"H0 is rejected \\n there  is significance difference between smart home purchase and customer satistication level\")\n",
    "else:\n",
    "    print(\"H0 is accepted \\n there's no  significant association between the type of smart home device purchased Smart Thermostats  Smart Light and the customer satisfaction level.\")"
   ]
  },
  {
   "cell_type": "code",
   "execution_count": null,
   "id": "99e324a1",
   "metadata": {},
   "outputs": [],
   "source": []
  }
 ],
 "metadata": {
  "kernelspec": {
   "display_name": "Python 3 (ipykernel)",
   "language": "python",
   "name": "python3"
  },
  "language_info": {
   "codemirror_mode": {
    "name": "ipython",
    "version": 3
   },
   "file_extension": ".py",
   "mimetype": "text/x-python",
   "name": "python",
   "nbconvert_exporter": "python",
   "pygments_lexer": "ipython3",
   "version": "3.10.9"
  }
 },
 "nbformat": 4,
 "nbformat_minor": 5
}
